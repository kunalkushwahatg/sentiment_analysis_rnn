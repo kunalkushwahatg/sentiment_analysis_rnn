{
  "nbformat": 4,
  "nbformat_minor": 0,
  "metadata": {
    "colab": {
      "provenance": [],
      "gpuType": "T4"
    },
    "kernelspec": {
      "name": "python3",
      "display_name": "Python 3"
    },
    "language_info": {
      "name": "python"
    },
    "accelerator": "GPU"
  },
  "cells": [
    {
      "cell_type": "code",
      "execution_count": null,
      "metadata": {
        "id": "MekBGrnlDMUC"
      },
      "outputs": [],
      "source": [
        "#opendataset is a library to downlaod kaggle datasets by providing the username and key for colab\n",
        "!pip install opendatasets\n",
        "import opendatasets as od\n",
        "dataset_url = 'https://www.kaggle.com/datasets/kazanova/sentiment140'\n",
        "od.download(dataset_url)\n",
        "\n",
        "#key for kaggle\n",
        "{\"username\":\"name\",\"key\":\"key\"}"
      ]
    },
    {
      "cell_type": "code",
      "source": [
        "#imports\n",
        "import tqdm\n",
        "import pandas as pd\n",
        "import nltk\n",
        "import re\n",
        "from nltk.corpus import stopwords\n",
        "from  nltk.stem import SnowballStemmer\n",
        "from gensim.models import Word2Vec\n",
        "from keras.preprocessing.text import Tokenizer\n",
        "from keras.preprocessing.sequence import pad_sequences\n",
        "from sklearn.preprocessing import LabelEncoder\n",
        "import torch\n",
        "import torch.nn as nn\n",
        "import torch.nn.functional as F"
      ],
      "metadata": {
        "id": "_JbIYjXHose4"
      },
      "execution_count": null,
      "outputs": []
    },
    {
      "cell_type": "code",
      "source": [
        "DATASET_ENCODING = \"ISO-8859-1\"\n",
        "DECODE_MAP = {0: \"NEGATIVE\", 2: \"NEUTRAL\", 4: \"POSITIVE\"}\n",
        "DATASET_SIZE = 1400000\n",
        "TEXT_CLEANING_RE = \"@\\S+|https?:\\S+|http?:\\S|[^A-Za-z0-9]+\""
      ],
      "metadata": {
        "id": "wLeHyFwdDdEX"
      },
      "execution_count": null,
      "outputs": []
    },
    {
      "cell_type": "code",
      "source": [
        "#read dataset\n",
        "df = pd.read_csv('/content/sentiment140/training.1600000.processed.noemoticon.csv', encoding = DATASET_ENCODING, names =[\"target\", \"ids\", \"date\", \"flag\", \"user\", \"text\"])\n",
        "df = df.drop(['ids','date','flag','user'],axis = 1)"
      ],
      "metadata": {
        "id": "jHho96ZWEBSu"
      },
      "execution_count": null,
      "outputs": []
    },
    {
      "cell_type": "code",
      "source": [
        "df.head(-5)"
      ],
      "metadata": {
        "colab": {
          "base_uri": "https://localhost:8080/",
          "height": 423
        },
        "id": "1EPeB98CFMRI",
        "outputId": "f3649aa5-c1fe-42e3-bacd-66ea51a352cd"
      },
      "execution_count": null,
      "outputs": [
        {
          "output_type": "execute_result",
          "data": {
            "text/plain": [
              "         target                                               text\n",
              "0             0  @switchfoot http://twitpic.com/2y1zl - Awww, t...\n",
              "1             0  is upset that he can't update his Facebook by ...\n",
              "2             0  @Kenichan I dived many times for the ball. Man...\n",
              "3             0    my whole body feels itchy and like its on fire \n",
              "4             0  @nationwideclass no, it's not behaving at all....\n",
              "...         ...                                                ...\n",
              "1599990       4                              WOOOOO! Xbox is back \n",
              "1599991       4  @rmedina @LaTati Mmmm  That sounds absolutely ...\n",
              "1599992       4                  ReCoVeRiNg FrOm ThE lOnG wEeKeNd \n",
              "1599993       4                                  @SCOOBY_GRITBOYS \n",
              "1599994       4  @Cliff_Forster Yeah, that does work better tha...\n",
              "\n",
              "[1599995 rows x 2 columns]"
            ],
            "text/html": [
              "\n",
              "  <div id=\"df-36d6567d-d5ca-4555-969d-f5fe310565db\" class=\"colab-df-container\">\n",
              "    <div>\n",
              "<style scoped>\n",
              "    .dataframe tbody tr th:only-of-type {\n",
              "        vertical-align: middle;\n",
              "    }\n",
              "\n",
              "    .dataframe tbody tr th {\n",
              "        vertical-align: top;\n",
              "    }\n",
              "\n",
              "    .dataframe thead th {\n",
              "        text-align: right;\n",
              "    }\n",
              "</style>\n",
              "<table border=\"1\" class=\"dataframe\">\n",
              "  <thead>\n",
              "    <tr style=\"text-align: right;\">\n",
              "      <th></th>\n",
              "      <th>target</th>\n",
              "      <th>text</th>\n",
              "    </tr>\n",
              "  </thead>\n",
              "  <tbody>\n",
              "    <tr>\n",
              "      <th>0</th>\n",
              "      <td>0</td>\n",
              "      <td>@switchfoot http://twitpic.com/2y1zl - Awww, t...</td>\n",
              "    </tr>\n",
              "    <tr>\n",
              "      <th>1</th>\n",
              "      <td>0</td>\n",
              "      <td>is upset that he can't update his Facebook by ...</td>\n",
              "    </tr>\n",
              "    <tr>\n",
              "      <th>2</th>\n",
              "      <td>0</td>\n",
              "      <td>@Kenichan I dived many times for the ball. Man...</td>\n",
              "    </tr>\n",
              "    <tr>\n",
              "      <th>3</th>\n",
              "      <td>0</td>\n",
              "      <td>my whole body feels itchy and like its on fire</td>\n",
              "    </tr>\n",
              "    <tr>\n",
              "      <th>4</th>\n",
              "      <td>0</td>\n",
              "      <td>@nationwideclass no, it's not behaving at all....</td>\n",
              "    </tr>\n",
              "    <tr>\n",
              "      <th>...</th>\n",
              "      <td>...</td>\n",
              "      <td>...</td>\n",
              "    </tr>\n",
              "    <tr>\n",
              "      <th>1599990</th>\n",
              "      <td>4</td>\n",
              "      <td>WOOOOO! Xbox is back</td>\n",
              "    </tr>\n",
              "    <tr>\n",
              "      <th>1599991</th>\n",
              "      <td>4</td>\n",
              "      <td>@rmedina @LaTati Mmmm  That sounds absolutely ...</td>\n",
              "    </tr>\n",
              "    <tr>\n",
              "      <th>1599992</th>\n",
              "      <td>4</td>\n",
              "      <td>ReCoVeRiNg FrOm ThE lOnG wEeKeNd</td>\n",
              "    </tr>\n",
              "    <tr>\n",
              "      <th>1599993</th>\n",
              "      <td>4</td>\n",
              "      <td>@SCOOBY_GRITBOYS</td>\n",
              "    </tr>\n",
              "    <tr>\n",
              "      <th>1599994</th>\n",
              "      <td>4</td>\n",
              "      <td>@Cliff_Forster Yeah, that does work better tha...</td>\n",
              "    </tr>\n",
              "  </tbody>\n",
              "</table>\n",
              "<p>1599995 rows × 2 columns</p>\n",
              "</div>\n",
              "    <div class=\"colab-df-buttons\">\n",
              "\n",
              "  <div class=\"colab-df-container\">\n",
              "    <button class=\"colab-df-convert\" onclick=\"convertToInteractive('df-36d6567d-d5ca-4555-969d-f5fe310565db')\"\n",
              "            title=\"Convert this dataframe to an interactive table.\"\n",
              "            style=\"display:none;\">\n",
              "\n",
              "  <svg xmlns=\"http://www.w3.org/2000/svg\" height=\"24px\" viewBox=\"0 -960 960 960\">\n",
              "    <path d=\"M120-120v-720h720v720H120Zm60-500h600v-160H180v160Zm220 220h160v-160H400v160Zm0 220h160v-160H400v160ZM180-400h160v-160H180v160Zm440 0h160v-160H620v160ZM180-180h160v-160H180v160Zm440 0h160v-160H620v160Z\"/>\n",
              "  </svg>\n",
              "    </button>\n",
              "\n",
              "  <style>\n",
              "    .colab-df-container {\n",
              "      display:flex;\n",
              "      gap: 12px;\n",
              "    }\n",
              "\n",
              "    .colab-df-convert {\n",
              "      background-color: #E8F0FE;\n",
              "      border: none;\n",
              "      border-radius: 50%;\n",
              "      cursor: pointer;\n",
              "      display: none;\n",
              "      fill: #1967D2;\n",
              "      height: 32px;\n",
              "      padding: 0 0 0 0;\n",
              "      width: 32px;\n",
              "    }\n",
              "\n",
              "    .colab-df-convert:hover {\n",
              "      background-color: #E2EBFA;\n",
              "      box-shadow: 0px 1px 2px rgba(60, 64, 67, 0.3), 0px 1px 3px 1px rgba(60, 64, 67, 0.15);\n",
              "      fill: #174EA6;\n",
              "    }\n",
              "\n",
              "    .colab-df-buttons div {\n",
              "      margin-bottom: 4px;\n",
              "    }\n",
              "\n",
              "    [theme=dark] .colab-df-convert {\n",
              "      background-color: #3B4455;\n",
              "      fill: #D2E3FC;\n",
              "    }\n",
              "\n",
              "    [theme=dark] .colab-df-convert:hover {\n",
              "      background-color: #434B5C;\n",
              "      box-shadow: 0px 1px 3px 1px rgba(0, 0, 0, 0.15);\n",
              "      filter: drop-shadow(0px 1px 2px rgba(0, 0, 0, 0.3));\n",
              "      fill: #FFFFFF;\n",
              "    }\n",
              "  </style>\n",
              "\n",
              "    <script>\n",
              "      const buttonEl =\n",
              "        document.querySelector('#df-36d6567d-d5ca-4555-969d-f5fe310565db button.colab-df-convert');\n",
              "      buttonEl.style.display =\n",
              "        google.colab.kernel.accessAllowed ? 'block' : 'none';\n",
              "\n",
              "      async function convertToInteractive(key) {\n",
              "        const element = document.querySelector('#df-36d6567d-d5ca-4555-969d-f5fe310565db');\n",
              "        const dataTable =\n",
              "          await google.colab.kernel.invokeFunction('convertToInteractive',\n",
              "                                                    [key], {});\n",
              "        if (!dataTable) return;\n",
              "\n",
              "        const docLinkHtml = 'Like what you see? Visit the ' +\n",
              "          '<a target=\"_blank\" href=https://colab.research.google.com/notebooks/data_table.ipynb>data table notebook</a>'\n",
              "          + ' to learn more about interactive tables.';\n",
              "        element.innerHTML = '';\n",
              "        dataTable['output_type'] = 'display_data';\n",
              "        await google.colab.output.renderOutput(dataTable, element);\n",
              "        const docLink = document.createElement('div');\n",
              "        docLink.innerHTML = docLinkHtml;\n",
              "        element.appendChild(docLink);\n",
              "      }\n",
              "    </script>\n",
              "  </div>\n",
              "\n",
              "\n",
              "<div id=\"df-6c3de037-83d7-4751-8f8a-d2636faff18c\">\n",
              "  <button class=\"colab-df-quickchart\" onclick=\"quickchart('df-6c3de037-83d7-4751-8f8a-d2636faff18c')\"\n",
              "            title=\"Suggest charts\"\n",
              "            style=\"display:none;\">\n",
              "\n",
              "<svg xmlns=\"http://www.w3.org/2000/svg\" height=\"24px\"viewBox=\"0 0 24 24\"\n",
              "     width=\"24px\">\n",
              "    <g>\n",
              "        <path d=\"M19 3H5c-1.1 0-2 .9-2 2v14c0 1.1.9 2 2 2h14c1.1 0 2-.9 2-2V5c0-1.1-.9-2-2-2zM9 17H7v-7h2v7zm4 0h-2V7h2v10zm4 0h-2v-4h2v4z\"/>\n",
              "    </g>\n",
              "</svg>\n",
              "  </button>\n",
              "\n",
              "<style>\n",
              "  .colab-df-quickchart {\n",
              "      --bg-color: #E8F0FE;\n",
              "      --fill-color: #1967D2;\n",
              "      --hover-bg-color: #E2EBFA;\n",
              "      --hover-fill-color: #174EA6;\n",
              "      --disabled-fill-color: #AAA;\n",
              "      --disabled-bg-color: #DDD;\n",
              "  }\n",
              "\n",
              "  [theme=dark] .colab-df-quickchart {\n",
              "      --bg-color: #3B4455;\n",
              "      --fill-color: #D2E3FC;\n",
              "      --hover-bg-color: #434B5C;\n",
              "      --hover-fill-color: #FFFFFF;\n",
              "      --disabled-bg-color: #3B4455;\n",
              "      --disabled-fill-color: #666;\n",
              "  }\n",
              "\n",
              "  .colab-df-quickchart {\n",
              "    background-color: var(--bg-color);\n",
              "    border: none;\n",
              "    border-radius: 50%;\n",
              "    cursor: pointer;\n",
              "    display: none;\n",
              "    fill: var(--fill-color);\n",
              "    height: 32px;\n",
              "    padding: 0;\n",
              "    width: 32px;\n",
              "  }\n",
              "\n",
              "  .colab-df-quickchart:hover {\n",
              "    background-color: var(--hover-bg-color);\n",
              "    box-shadow: 0 1px 2px rgba(60, 64, 67, 0.3), 0 1px 3px 1px rgba(60, 64, 67, 0.15);\n",
              "    fill: var(--button-hover-fill-color);\n",
              "  }\n",
              "\n",
              "  .colab-df-quickchart-complete:disabled,\n",
              "  .colab-df-quickchart-complete:disabled:hover {\n",
              "    background-color: var(--disabled-bg-color);\n",
              "    fill: var(--disabled-fill-color);\n",
              "    box-shadow: none;\n",
              "  }\n",
              "\n",
              "  .colab-df-spinner {\n",
              "    border: 2px solid var(--fill-color);\n",
              "    border-color: transparent;\n",
              "    border-bottom-color: var(--fill-color);\n",
              "    animation:\n",
              "      spin 1s steps(1) infinite;\n",
              "  }\n",
              "\n",
              "  @keyframes spin {\n",
              "    0% {\n",
              "      border-color: transparent;\n",
              "      border-bottom-color: var(--fill-color);\n",
              "      border-left-color: var(--fill-color);\n",
              "    }\n",
              "    20% {\n",
              "      border-color: transparent;\n",
              "      border-left-color: var(--fill-color);\n",
              "      border-top-color: var(--fill-color);\n",
              "    }\n",
              "    30% {\n",
              "      border-color: transparent;\n",
              "      border-left-color: var(--fill-color);\n",
              "      border-top-color: var(--fill-color);\n",
              "      border-right-color: var(--fill-color);\n",
              "    }\n",
              "    40% {\n",
              "      border-color: transparent;\n",
              "      border-right-color: var(--fill-color);\n",
              "      border-top-color: var(--fill-color);\n",
              "    }\n",
              "    60% {\n",
              "      border-color: transparent;\n",
              "      border-right-color: var(--fill-color);\n",
              "    }\n",
              "    80% {\n",
              "      border-color: transparent;\n",
              "      border-right-color: var(--fill-color);\n",
              "      border-bottom-color: var(--fill-color);\n",
              "    }\n",
              "    90% {\n",
              "      border-color: transparent;\n",
              "      border-bottom-color: var(--fill-color);\n",
              "    }\n",
              "  }\n",
              "</style>\n",
              "\n",
              "  <script>\n",
              "    async function quickchart(key) {\n",
              "      const quickchartButtonEl =\n",
              "        document.querySelector('#' + key + ' button');\n",
              "      quickchartButtonEl.disabled = true;  // To prevent multiple clicks.\n",
              "      quickchartButtonEl.classList.add('colab-df-spinner');\n",
              "      try {\n",
              "        const charts = await google.colab.kernel.invokeFunction(\n",
              "            'suggestCharts', [key], {});\n",
              "      } catch (error) {\n",
              "        console.error('Error during call to suggestCharts:', error);\n",
              "      }\n",
              "      quickchartButtonEl.classList.remove('colab-df-spinner');\n",
              "      quickchartButtonEl.classList.add('colab-df-quickchart-complete');\n",
              "    }\n",
              "    (() => {\n",
              "      let quickchartButtonEl =\n",
              "        document.querySelector('#df-6c3de037-83d7-4751-8f8a-d2636faff18c button');\n",
              "      quickchartButtonEl.style.display =\n",
              "        google.colab.kernel.accessAllowed ? 'block' : 'none';\n",
              "    })();\n",
              "  </script>\n",
              "</div>\n",
              "\n",
              "    </div>\n",
              "  </div>\n"
            ]
          },
          "metadata": {},
          "execution_count": 7
        }
      ]
    },
    {
      "cell_type": "code",
      "source": [
        "#divides the dataset into positve and negetive\n",
        "len_posistive = len(df[df['target']==4])\n",
        "len_negetive  = len(df[df['target']==0])\n",
        "\n",
        "negetive_df = df.loc[0:DATASET_SIZE/2]\n",
        "positive_df = df.loc[len_posistive:len_posistive + (DATASET_SIZE/2)]\n",
        "\n",
        "positive_df = positive_df.reset_index(drop=True)\n",
        "negetive_df = negetive_df.reset_index(drop=True)\n",
        "\n",
        "#concatenate positve and negetive dataset for training purpose\n",
        "data = pd.concat([positive_df, negetive_df], ignore_index=True)"
      ],
      "metadata": {
        "id": "d85l5HvvHev1"
      },
      "execution_count": null,
      "outputs": []
    },
    {
      "cell_type": "code",
      "source": [
        "#use of nltk for downloading stopwords\n",
        "nltk.download('stopwords')\n",
        "stop_words = stopwords.words(\"english\")\n",
        "\n",
        "#to simplify words to base words eg. (liked , liking , likes , likabele ) => like\n",
        "stemmer = SnowballStemmer(\"english\")\n",
        "\n",
        "#to preprocess the text data => lower , substitute ,stemming\n",
        "def preprocess(text,stem =False):\n",
        "    text = re.sub(TEXT_CLEANING_RE, ' ' , str(text).lower()).strip()\n",
        "    tokens= []\n",
        "    for word in text.split():\n",
        "        if word not in stop_words:\n",
        "            if stem:\n",
        "                tokens.append(stemmer.stem(word))\n",
        "            else:\n",
        "                tokens.append(word)\n",
        "\n",
        "    return ' '.join(tokens)"
      ],
      "metadata": {
        "id": "VBMIPz07UCPC",
        "colab": {
          "base_uri": "https://localhost:8080/"
        },
        "outputId": "faf0eb52-0750-4476-8f45-ac45e40786c7"
      },
      "execution_count": null,
      "outputs": [
        {
          "output_type": "stream",
          "name": "stderr",
          "text": [
            "[nltk_data] Downloading package stopwords to /root/nltk_data...\n",
            "[nltk_data]   Unzipping corpora/stopwords.zip.\n"
          ]
        }
      ]
    },
    {
      "cell_type": "code",
      "source": [
        "#apply preprocess on data\n",
        "data.text = data.text.apply(lambda x : preprocess(x))\n",
        "data.text"
      ],
      "metadata": {
        "id": "JEGtbz0bdH3Y",
        "colab": {
          "base_uri": "https://localhost:8080/"
        },
        "outputId": "af5e7823-c8ac-4fa1-d377-45b61aa1e1e4"
      },
      "execution_count": null,
      "outputs": [
        {
          "output_type": "execute_result",
          "data": {
            "text/plain": [
              "0                         love health4uandpets u guys r best\n",
              "1          im meeting one besties tonight cant wait girl ...\n",
              "2          thanks twitter add sunisa got meet hin show dc...\n",
              "3          sick really cheap hurts much eat real food plu...\n",
              "4                                            effect everyone\n",
              "                                 ...                        \n",
              "1399997                    wishes could see abt romeo juliet\n",
              "1399998              heart burn day thats normal 14 year old\n",
              "1399999                                            get blowd\n",
              "1400000    hahahahah nothing ugh eye watery dont know soo...\n",
              "1400001    people tweeting advice combat tear gas iran ir...\n",
              "Name: text, Length: 1400002, dtype: object"
            ]
          },
          "metadata": {},
          "execution_count": 7
        }
      ]
    },
    {
      "cell_type": "code",
      "source": [
        "#break the words into list and append to sentences\n",
        "sentences = []\n",
        "for i in data['text']:\n",
        "    sentences.append(i.split())"
      ],
      "metadata": {
        "id": "7j6qx2rDqabl"
      },
      "execution_count": null,
      "outputs": []
    },
    {
      "cell_type": "code",
      "source": [
        "# Train the model\n",
        "#this will make a\n",
        "w2v_model = Word2Vec(sentences, vector_size=100, window=5, min_count=1,epochs=50)\n",
        "# Save the model\n",
        "w2v_model.save('word2vec.model')"
      ],
      "metadata": {
        "id": "2s7u9nwKnfyV"
      },
      "execution_count": null,
      "outputs": []
    },
    {
      "cell_type": "code",
      "source": [
        "#load the model if already trained.\n",
        "model = Word2Vec.load('/content/word2vec.model')"
      ],
      "metadata": {
        "id": "U5s78AZ9wzMd"
      },
      "execution_count": null,
      "outputs": []
    },
    {
      "cell_type": "code",
      "source": [
        "index_to_key = model.wv.index_to_key #contains the list of  keys\n",
        "vocab_size  = len(index_to_key)  + 1 #total lenght of vocab +1 is for pad 0\n",
        "\n",
        "#model.wv wil conatain a matrix of length_vocab X vector_size\n",
        "eg_ = model.wv['hello'] #shape => (100,)\n",
        "#print(eg_.shape) #shape of one word\n",
        "similar_words = model.wv.most_similar('bad', topn=5)\n",
        "similar_words"
      ],
      "metadata": {
        "colab": {
          "base_uri": "https://localhost:8080/"
        },
        "id": "Zfb2Kp03MMhP",
        "outputId": "ebb6b224-c8a1-43d8-c4df-5f3b2d1397d1"
      },
      "execution_count": null,
      "outputs": [
        {
          "output_type": "execute_result",
          "data": {
            "text/plain": [
              "[('good', 0.7588441371917725),\n",
              " ('horrible', 0.7193538546562195),\n",
              " ('terrible', 0.7140897512435913),\n",
              " ('awful', 0.6843911409378052),\n",
              " ('shitty', 0.6488863825798035)]"
            ]
          },
          "metadata": {},
          "execution_count": 15
        }
      ]
    },
    {
      "cell_type": "code",
      "source": [
        "vocab = index_to_key"
      ],
      "metadata": {
        "id": "X2DrLKLpy5Uf"
      },
      "execution_count": null,
      "outputs": []
    },
    {
      "cell_type": "code",
      "source": [
        "# Create a mapping from words to indices\n",
        "word_to_index = {}\n",
        "index_to_word = {}\n",
        "for i, word in enumerate(vocab):\n",
        "  word_to_index[word] = i\n",
        "  index_to_word[i] = word\n",
        "\n",
        "# creating a mapping for word to indices in sentences\n",
        "max_length = 10\n",
        "sequennces = []\n",
        "for sentence in sentences:\n",
        "  sequennces.append([word_to_index[word] for word in sentence])\n",
        "print('1st sequences:', sequennces[0])\n",
        "\n",
        "#padding of sequences\n",
        "padded_sequences = pad_sequences(sequennces, maxlen=10, padding='pre') #=>maximum length of text to be 10 and padding is pre\n",
        "print('Shape of padded sequences:', padded_sequences.shape)"
      ],
      "metadata": {
        "colab": {
          "base_uri": "https://localhost:8080/"
        },
        "id": "vBZgmH8dyn4R",
        "outputId": "eaa092a4-6347-4ad0-dbe6-c9c1af4264b9"
      },
      "execution_count": null,
      "outputs": [
        {
          "output_type": "stream",
          "name": "stdout",
          "text": [
            "1st sequences: [9, 127695, 14, 116, 222, 89]\n",
            "Shape of padded sequences: (1400002, 10)\n"
          ]
        }
      ]
    },
    {
      "cell_type": "code",
      "source": [
        "#labes are encoded with 1  = positive and 0 = negetive\n",
        "encoder = LabelEncoder()\n",
        "encoder.fit(data.target.tolist())\n",
        "\n",
        "Y = encoder.transform(data.target.tolist())\n",
        "Y = Y.reshape(Y.shape[0],1)\n",
        "\n",
        "print(\"shape of Y : \" ,Y.shape)"
      ],
      "metadata": {
        "colab": {
          "base_uri": "https://localhost:8080/"
        },
        "id": "Jl43NWXjyibn",
        "outputId": "a42cdb74-4a03-49d2-82b4-6a0e4fd7fb7a"
      },
      "execution_count": null,
      "outputs": [
        {
          "output_type": "stream",
          "name": "stdout",
          "text": [
            "shape of Y :  (1400002, 1)\n"
          ]
        }
      ]
    },
    {
      "cell_type": "code",
      "source": [
        "Y[1]"
      ],
      "metadata": {
        "colab": {
          "base_uri": "https://localhost:8080/"
        },
        "id": "Yv7akxXppYLY",
        "outputId": "324c94c8-4221-44d0-df2e-44875ebc5fff"
      },
      "execution_count": null,
      "outputs": [
        {
          "output_type": "execute_result",
          "data": {
            "text/plain": [
              "array([1])"
            ]
          },
          "metadata": {},
          "execution_count": 63
        }
      ]
    },
    {
      "cell_type": "code",
      "source": [
        "\n",
        "def get_default_device():\n",
        "    \"\"\"Pick GPU if available, else CPU\"\"\"\n",
        "    if torch.cuda.is_available():\n",
        "        return torch.device('cuda')\n",
        "    else:\n",
        "        return torch.device('cpu')\n",
        "\n",
        "def to_device(data, device):\n",
        "    \"\"\"Move tensor(s) to chosen device\"\"\"\n",
        "    if isinstance(data, (list,tuple)):\n",
        "        return [to_device(x, device) for x in data]\n",
        "    return data.to(device, non_blocking=True)\n",
        "\n",
        "class DeviceDataLoader():\n",
        "    \"\"\"Wrap a dataloader to move data to a device\"\"\"\n",
        "    def __init__(self, dl, device):\n",
        "        self.dl = dl\n",
        "        self.device = device\n",
        "\n",
        "    def __iter__(self):\n",
        "        \"\"\"Yield a batch of data after moving it to device\"\"\"\n",
        "        for b in self.dl:\n",
        "            yield to_device(b, self.device)\n",
        "\n",
        "    def __len__(self):\n",
        "        \"\"\"Number of batches\"\"\"\n",
        "        return len(self.dl)\n",
        "device = get_default_device()\n",
        "device"
      ],
      "metadata": {
        "colab": {
          "base_uri": "https://localhost:8080/"
        },
        "id": "sZ_aaonSQNOH",
        "outputId": "c3e666f2-2355-4793-f09f-7b49b346497d"
      },
      "execution_count": null,
      "outputs": [
        {
          "output_type": "execute_result",
          "data": {
            "text/plain": [
              "device(type='cuda')"
            ]
          },
          "metadata": {},
          "execution_count": 10
        }
      ]
    },
    {
      "cell_type": "code",
      "source": [
        "#create a dataset class for loading data for further use of pytorch dataloader\n",
        "from torch.utils.data import Dataset, DataLoader,random_split\n",
        "import torch\n",
        "class SentimentDataset(Dataset):\n",
        "    def __init__(self, data, labels):\n",
        "        self.data = torch.LongTensor(data)\n",
        "        self.labels = torch.LongTensor(labels).float()\n",
        "        #self.labels = F.one_hot(torch.LongTensor(labels)).float()\n",
        "\n",
        "    def __len__(self):\n",
        "        return len(self.data)\n",
        "\n",
        "    def __getitem__(self, idx):\n",
        "        return self.data[idx], self.labels[idx]"
      ],
      "metadata": {
        "id": "RedLA2Nl0AUn"
      },
      "execution_count": null,
      "outputs": []
    },
    {
      "cell_type": "code",
      "source": [
        "'''creates the dataset for traning and validation '''\n",
        "\n",
        "data = SentimentDataset(padded_sequences,Y)\n",
        "batch_size = 128\n",
        "# split the dataset for train and validation\n",
        "train_dl , val_dl = random_split(data , [DATASET_SIZE-50000,50002])\n",
        "train_dl = DataLoader(train_dl,batch_size = 128,shuffle = True,drop_last=True)  # shape of every bactch => (128 X 8)\n",
        "val_dl = DataLoader(val_dl,batch_size = batch_size,shuffle = True,drop_last=True)\n",
        "\n",
        "#creating weights for pretrained embedding layer\n",
        "embedding_matrix = torch.FloatTensor(model.wv.vectors) #shape => (vocab_size, 100)"
      ],
      "metadata": {
        "id": "b1ny4JbM0a-_"
      },
      "execution_count": null,
      "outputs": []
    },
    {
      "cell_type": "code",
      "source": [
        "#tranfering to device(gpu)\n",
        "train_dl = DeviceDataLoader(train_dl,device)\n",
        "val_dl = DeviceDataLoader(val_dl,device)\n",
        "embedding_matrix = to_device(embedding_matrix, device)"
      ],
      "metadata": {
        "id": "J3so-n0bVmXV"
      },
      "execution_count": null,
      "outputs": []
    },
    {
      "cell_type": "code",
      "source": [
        "\"shape of embedding matrix \" ,embedding_matrix.shape"
      ],
      "metadata": {
        "colab": {
          "base_uri": "https://localhost:8080/"
        },
        "id": "BSleAoGcHDHi",
        "outputId": "c135f03b-720b-4605-d5fa-1a34d12792c4"
      },
      "execution_count": null,
      "outputs": [
        {
          "output_type": "execute_result",
          "data": {
            "text/plain": [
              "('shape of embedding matrix ', torch.Size([306458, 100]))"
            ]
          },
          "metadata": {},
          "execution_count": 67
        }
      ]
    },
    {
      "cell_type": "code",
      "source": [
        "for a , b in train_dl:\n",
        "    print(a[0],b[0])\n",
        "    break"
      ],
      "metadata": {
        "colab": {
          "base_uri": "https://localhost:8080/"
        },
        "id": "FwT774xYHmfU",
        "outputId": "afd2d6cb-d5b2-4b0c-bfa6-06637229bbcf"
      },
      "execution_count": null,
      "outputs": [
        {
          "output_type": "stream",
          "name": "stdout",
          "text": [
            "tensor([  0,   0,   0,   0,   0,   0,   0,   0,   0, 673], device='cuda:0') tensor([0.], device='cuda:0')\n"
          ]
        }
      ]
    },
    {
      "cell_type": "code",
      "source": [
        "''' creating the model  RNN'''\n",
        "\n",
        "class RNN_Sentiment_Analysis(nn.Module):\n",
        "    def __init__(self,embedding_matrix,hidden_size):\n",
        "\n",
        "        super(RNN_Sentiment_Analysis,self).__init__()\n",
        "\n",
        "        #create embedding layer , freeze the weights that are pretrained\n",
        "        self.embedding = nn.Embedding.from_pretrained(embedding_matrix, freeze=True)\n",
        "\n",
        "        #define RNN layeer\n",
        "        self.rnn = nn.RNN(input_size=embedding_matrix.shape[1],hidden_size=hidden_size, batch_first=True)\n",
        "\n",
        "        #define linear layer with input_size = hidde_size(RNN) output_size = 2\n",
        "        self.linear = nn.Linear(256,2)\n",
        "\n",
        "        #softmax layer will give 2d ouput\n",
        "        self.softmax = nn.Softmax(dim=1)\n",
        "\n",
        "    def forward(self,x):\n",
        "        embd =  self.embedding(x)\n",
        "        output , hidden   = self.rnn(embd)\n",
        "        fc = self.linear(hidden.squeeze_(0)) #shape =>(128 x hidden_size)\n",
        "        out = self.softmax(fc)\n",
        "        return out\n",
        "\n",
        "RNN_model = RNN_Sentiment_Analysis(embedding_matrix,256)\n",
        "RNN_model = to_device(RNN_model,device)\n",
        "\n",
        "lr=0.005\n",
        "# define adam optimizer\n",
        "optimizer = torch.optim.Adam(RNN_model.parameters(), lr=lr)\n",
        "\n",
        "#define evaluation model , returns average (accuracy , loss) of validation data\n",
        "def eval(model , val_dl):\n",
        "    model.eval()\n",
        "    accuracies = []\n",
        "    losses = []\n",
        "    for data, labels in tqdm.tqdm(val_dl):\n",
        "        output = model(data)\n",
        "        _,preds = torch.max(output,dim=1)\n",
        "        _,labels =  torch.max(labels.squeeze(1),dim=1)\n",
        "        accuracies.append(torch.tensor(torch.sum(preds==labels).item()/len(preds)).item())\n",
        "        loss = F.cross_entropy(label.squeeze(1),label_pred).item()\n",
        "        losses.append(loss)\n",
        "    return sum(accuracies)/len(accuracies) , sum(losses)/len(losses)\n",
        "\n",
        "\n",
        "\n",
        "losses = []\n",
        "val_accuracies = []\n",
        "val_losses = []\n",
        "epochs = 15\n",
        "\n",
        "import tqdm\n",
        "\n",
        "for epoch in range(epochs):\n",
        "    RNN_model.train()\n",
        "    for i,(text,label) in tqdm.tqdm(enumerate(train_dl)):\n",
        "        optimizer.zero_grad()\n",
        "        label_pred = RNN_model(text)\n",
        "        loss = F.cross_entropy(label.squeeze(1),label_pred)\n",
        "        loss.backward()\n",
        "        optimizer.step()\n",
        "    print(\"VALIDATING .....\")\n",
        "    val_acccuracy, val_loss  = eval(RNN_model,val_dl)\n",
        "    print(f\"EPOCH {epoch}/{epochs} || TRAINING LOSS : {loss} || VALIDATION LOSS : {val_loss} || VALIDATION ACCURACY : {val_acccuracy}\")\n",
        "    losses.append(loss.item())\n",
        "    val_losses.append(val_loss)\n",
        "    val_accuracies.append(val_acccuracy)"
      ],
      "metadata": {
        "id": "nrhY8LOctzz4"
      },
      "execution_count": null,
      "outputs": []
    },
    {
      "cell_type": "code",
      "source": [
        "''' creating the model  LSTM'''\n",
        "\n",
        "class RNN_Sentiment_Analysis(nn.Module):\n",
        "    def __init__(self,embedding_matrix,hidden_size):\n",
        "\n",
        "        super(RNN_Sentiment_Analysis,self).__init__()\n",
        "\n",
        "        #create embedding layer , freeze the weights that are pretrained\n",
        "        self.embedding = nn.Embedding.from_pretrained(embedding_matrix, freeze=True)\n",
        "\n",
        "        #define RNN layeer\n",
        "        self.rnn = nn.LSTM(input_size=embedding_matrix.shape[1],hidden_size=hidden_size, batch_first=True)\n",
        "\n",
        "        #define linear layer with input_size = hidde_size(RNN) output_size = 2\n",
        "        self.linear = nn.Linear(256,2)\n",
        "\n",
        "        #softmax layer will give 2d ouput\n",
        "        self.softmax = nn.Softmax(dim=1)\n",
        "\n",
        "    def forward(self,x):\n",
        "        embd =  self.embedding(x)\n",
        "        output , hidden   = self.rnn(embd)\n",
        "        fc = self.linear(hidden[0].squeeze_(0)) #shape =>(128 x hidden_size)\n",
        "        out = self.softmax(fc)\n",
        "        return out\n",
        "\n",
        "RNN_model = RNN_Sentiment_Analysis(embedding_matrix,256)\n",
        "RNN_model = to_device(RNN_model,device)\n",
        "\n",
        "lr=0.005\n",
        "# define adam optimizer\n",
        "optimizer = torch.optim.Adam(RNN_model.parameters(), lr=lr)\n",
        "\n",
        "#define evaluation model , returns average (accuracy , loss) of validation data\n",
        "def eval(model , val_dl):\n",
        "    model.eval()\n",
        "    accuracies = []\n",
        "    losses = []\n",
        "    for data, labels in tqdm.tqdm(val_dl):\n",
        "        output = model(data)\n",
        "        _,preds = torch.max(output,dim=1)\n",
        "        _,labels =  torch.max(labels.squeeze(1),dim=1)\n",
        "        accuracies.append(torch.tensor(torch.sum(preds==labels).item()/len(preds)).item())\n",
        "        loss = F.cross_entropy(label.squeeze(1),label_pred).item()\n",
        "        losses.append(loss)\n",
        "    return sum(accuracies)/len(accuracies) , sum(losses)/len(losses)\n",
        "\n",
        "\n",
        "\n",
        "losses = []\n",
        "val_accuracies = []\n",
        "val_losses = []\n",
        "epochs = 15\n",
        "\n",
        "import tqdm\n",
        "\n",
        "for epoch in range(epochs):\n",
        "    RNN_model.train()\n",
        "    for i,(text,label) in tqdm.tqdm(enumerate(train_dl)):\n",
        "        optimizer.zero_grad()\n",
        "        label_pred = RNN_model(text)\n",
        "        loss = F.cross_entropy(label.squeeze(1),label_pred)\n",
        "        loss.backward()\n",
        "        optimizer.step()\n",
        "    print(\"VALIDATING .....\")\n",
        "    val_acccuracy, val_loss  = eval(RNN_model,val_dl)\n",
        "    print(f\"EPOCH {epoch}/{epochs} || TRAINING LOSS : {loss} || VALIDATION LOSS : {val_loss} || VALIDATION ACCURACY : {val_acccuracy}\")\n",
        "    losses.append(loss.item())\n",
        "    val_losses.append(val_loss)\n",
        "    val_accuracies.append(val_acccuracy)"
      ],
      "metadata": {
        "id": "3XSc5LpVjGVT"
      },
      "execution_count": null,
      "outputs": []
    },
    {
      "cell_type": "code",
      "source": [
        "''' creating the model  LSTM with bce'''\n",
        "\n",
        "class RNN_Sentiment_Analysis(nn.Module):\n",
        "    def __init__(self,embedding_matrix,hidden_size):\n",
        "\n",
        "        super(RNN_Sentiment_Analysis,self).__init__()\n",
        "\n",
        "        #create embedding layer , freeze the weights that are pretrained\n",
        "        self.embedding = nn.Embedding.from_pretrained(embedding_matrix, freeze=True)\n",
        "\n",
        "        #define RNN layeer\n",
        "        self.rnn = nn.LSTM(input_size=embedding_matrix.shape[1],hidden_size=hidden_size, batch_first=True)\n",
        "\n",
        "        #define linear layer with input_size = hidde_size(RNN) output_size = 2\n",
        "        self.linear = nn.Linear(256,1)\n",
        "\n",
        "        #softmax layer will give 2d ouput\n",
        "        self.sigmoid = nn.Sigmoid()\n",
        "\n",
        "    def forward(self,x):\n",
        "        embd =  self.embedding(x)\n",
        "        output , hidden   = self.rnn(embd)\n",
        "        fc = self.linear(hidden[0].squeeze_(0)) #shape =>(128 x hidden_size)\n",
        "        out = self.sigmoid(fc)\n",
        "        return out\n",
        "\n",
        "RNN_model = RNN_Sentiment_Analysis(embedding_matrix,256)\n",
        "RNN_model = to_device(RNN_model,device)\n",
        "\n",
        "lr=0.005\n",
        "# define adam optimizer\n",
        "optimizer = torch.optim.Adam(RNN_model.parameters(), lr=lr)\n",
        "\n",
        "#define evaluation model , returns average (accuracy , loss) of validation data\n",
        "def eval(model , val_dl):\n",
        "    model.eval()\n",
        "    accuracies = []\n",
        "    losses = []\n",
        "    for data, labels in tqdm.tqdm(val_dl):\n",
        "        output = model(data)\n",
        "        predictions = (output >= 0.5).int()\n",
        "        correct_predictions = (predictions == labels).sum().item()\n",
        "        accuracy = correct_predictions / len(labels)\n",
        "        loss = F.binary_cross_entropy(labels,output).item()\n",
        "        losses.append(loss)\n",
        "    return accuracy, sum(losses)/len(losses)\n",
        "\n",
        "\n",
        "losses = []\n",
        "val_accuracies = []\n",
        "val_losses = []\n",
        "epochs = 15\n",
        "import tqdm\n",
        "\n",
        "for epoch in range(epochs):\n",
        "    RNN_model.train()\n",
        "    for i,(text,label) in tqdm.tqdm(enumerate(train_dl)):\n",
        "        optimizer.zero_grad()\n",
        "        label_pred = RNN_model(text)\n",
        "        loss = F.binary_cross_entropy(label,label_pred)\n",
        "        loss.backward()\n",
        "        optimizer.step()\n",
        "    print(\"VALIDATING .....\")\n",
        "    val_acccuracy, val_loss  = eval(RNN_model,val_dl)\n",
        "    print(f\"EPOCH {epoch}/{epochs} || TRAINING LOSS : {loss} || VALIDATION LOSS : {val_loss} || VALIDATION ACCURACY : {val_acccuracy}\")\n",
        "    losses.append(loss.item())\n",
        "    val_losses.append(val_loss)\n",
        "    val_accuracies.append(val_acccuracy)\n"
      ],
      "metadata": {
        "id": "Qs9bMgpnpjyY"
      },
      "execution_count": null,
      "outputs": []
    },
    {
      "cell_type": "code",
      "source": [
        "def predict(text,model):\n",
        "    decode_map = {0: \"NEGATIVE\", 1: \"POSITIVE\"}\n",
        "    text = preprocess(text)\n",
        "    model.eval()\n",
        "    sequence = [word_to_index[i] for i in text.split()]\n",
        "    padded_sequence = torch.LongTensor(pad_sequences([sequence], maxlen=10, padding='pre'))\n",
        "    padded_sequence = to_device(padded_sequence, device)\n",
        "    output = model(padded_sequence)\n",
        "    print(output)\n",
        "    _ , output = torch.max(output,dim=1)\n",
        "    print(decode_map[output.item()])\n"
      ],
      "metadata": {
        "id": "31mTEyymscV0"
      },
      "execution_count": null,
      "outputs": []
    },
    {
      "cell_type": "code",
      "source": [
        "text = 'hello i do not like what tyou are saying  '\n",
        "predict(text,RNN_model)"
      ],
      "metadata": {
        "id": "imjEIJ1vP8bX"
      },
      "execution_count": null,
      "outputs": []
    },
    {
      "cell_type": "code",
      "source": [
        "import csv\n",
        "from datetime import datetime\n",
        "\n",
        "def log_hyperparameters_to_csv(file_path, hyperparameters):\n",
        "    \"\"\"\n",
        "    Log machine learning hyperparameters to a CSV file.\n",
        "\n",
        "    Parameters:\n",
        "    - file_path (str): The path to the CSV file.\n",
        "    - hyperparameters (dict): A dictionary containing hyperparameters and their values.\n",
        "    \"\"\"\n",
        "    # Get the current timestamp for logging purposes\n",
        "    timestamp = datetime.now().strftime(\"%Y-%m-%d %H:%M:%S\")\n",
        "\n",
        "    # Open the CSV file in append mode\n",
        "    with open(file_path, mode='a', newline='') as csv_file:\n",
        "        # Create a CSV writer\n",
        "        csv_writer = csv.writer(csv_file)\n",
        "\n",
        "        # If the file is empty, write the header\n",
        "        if csv_file.tell() == 0:\n",
        "            header = ['Timestamp'] + list(hyperparameters.keys())\n",
        "            csv_writer.writerow(header)\n",
        "\n",
        "        # Create a row with timestamp and hyperparameter values\n",
        "        row = [timestamp] + list(hyperparameters.values())\n",
        "\n",
        "        # Write the row to the CSV file\n",
        "        csv_writer.writerow(row)\n",
        "\n",
        "# Example usage:\n",
        "hyperparameters = {\n",
        "    'learning_rate': lr,\n",
        "    'batch_size': batch_size,\n",
        "    'epochs': epochs,\n",
        "    'optimizer': 'adam WITH BCE',\n",
        "    'max_length' : max_length,\n",
        "    'val_loss' : val_losses,\n",
        "    'val_acccuracy' : val_accuracies,\n",
        "    'training_loss' : loss,\n",
        "    'dataset_size' : DATASET_SIZE,\n",
        "    'model_sturcture' : ['embedding , LSTM , linear , softmax'],\n",
        "    'input_size' : 100,\n",
        "    'word_to_vec_epochs' : 50\n",
        "\n",
        "\n",
        "}\n",
        "\n",
        "log_hyperparameters_to_csv('hyperparameters_log.csv', hyperparameters)\n"
      ],
      "metadata": {
        "id": "G_hY9AKAd6TQ"
      },
      "execution_count": null,
      "outputs": []
    },
    {
      "cell_type": "code",
      "source": [
        "import matplotlib.pyplot as plt\n",
        "\n",
        "\n",
        "# Plotting the training losses\n",
        "plt.plot(losses, label='Training Loss')\n",
        "plt.xlabel('Epochs')\n",
        "plt.ylabel('Loss')\n",
        "plt.title('Training Loss Over Epochs')\n",
        "plt.legend()\n",
        "plt.show()\n"
      ],
      "metadata": {
        "colab": {
          "base_uri": "https://localhost:8080/",
          "height": 472
        },
        "id": "vJWKN9RDfP-l",
        "outputId": "6ebcff8c-8b64-44c3-cc56-38a2e667e93a"
      },
      "execution_count": null,
      "outputs": [
        {
          "output_type": "display_data",
          "data": {
            "text/plain": [
              "<Figure size 640x480 with 1 Axes>"
            ],
            "image/png": "[encoded data removed]"
          },
          "metadata": {}
        }
      ]
    },
    {
      "cell_type": "code",
      "source": [
        "\n",
        "# Plotting the training losses\n",
        "plt.plot(val_losses, label='val Loss')\n",
        "plt.xlabel('Epochs')\n",
        "plt.ylabel('val Loss')\n",
        "plt.title('val Loss Over Epochs')\n",
        "plt.legend()\n",
        "plt.show()\n"
      ],
      "metadata": {
        "colab": {
          "base_uri": "https://localhost:8080/",
          "height": 472
        },
        "id": "FMSrCfcqf_J7",
        "outputId": "db2aab5f-f4a7-4fe3-90b6-09339e9f1fa7"
      },
      "execution_count": null,
      "outputs": [
        {
          "output_type": "display_data",
          "data": {
            "text/plain": [
              "<Figure size 640x480 with 1 Axes>"
            ],
            "image/png": "[encoded data removed]"
          },
          "metadata": {}
        }
      ]
    },
    {
      "cell_type": "code",
      "source": [
        "\n",
        "# Plotting the training losses\n",
        "plt.plot(val_accuracies, label='val accuracies')\n",
        "plt.xlabel('Epochs')\n",
        "plt.ylabel('Loss')\n",
        "plt.title('val_accuracies Over Epochs')\n",
        "plt.legend()\n",
        "plt.show()"
      ],
      "metadata": {
        "colab": {
          "base_uri": "https://localhost:8080/",
          "height": 472
        },
        "id": "CogYGUxTgC0f",
        "outputId": "2609d214-7dbd-430f-89a4-03c826793dae"
      },
      "execution_count": null,
      "outputs": [
        {
          "output_type": "display_data",
          "data": {
            "text/plain": [
              "<Figure size 640x480 with 1 Axes>"
            ],
            "image/png": "[encoded data removed]"
          },
          "metadata": {}
        }
      ]
    },
    {
      "cell_type": "code",
      "source": [],
      "metadata": {
        "id": "sZ7OABPhldVn"
      },
      "execution_count": null,
      "outputs": []
    }
  ]
}